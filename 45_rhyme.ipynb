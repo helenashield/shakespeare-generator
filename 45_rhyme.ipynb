{
 "cells": [
  {
   "cell_type": "code",
   "execution_count": 1,
   "metadata": {},
   "outputs": [],
   "source": [
    "import os\n",
    "import numpy as np\n",
    "from IPython.display import HTML\n",
    "\n",
    "from HMM import unsupervised_HMM\n",
    "from HMM_helper import (\n",
    "    text_to_wordcloud,\n",
    "    states_to_wordclouds,\n",
    "    parse_observations,\n",
    "    sample_sonnet,\n",
    "    sample_rhyming_sonnet,\n",
    "    visualize_sparsities,\n",
    "    animate_emission\n",
    ")"
   ]
  },
  {
   "cell_type": "code",
   "execution_count": 2,
   "metadata": {},
   "outputs": [],
   "source": [
    "poem_obs = []\n",
    "poem_obs_withSYLS = []\n",
    "\n",
    "with open(\"poems.txt\") as f:\n",
    "    counter = 0\n",
    "    rhymes = []\n",
    "    rhymes_row = []\n",
    "    for line in f:\n",
    "        l = (line.strip()).split(\";\")\n",
    "        if len(l) > 3:\n",
    "            row = []\n",
    "            rowSyl = []\n",
    "            for pair in l:\n",
    "                tup = pair.split(\",\")\n",
    "                row.append(int(tup[0]))\n",
    "                rowSyl.append([tup[0], int(tup[1])])\n",
    "            rhymes_row.append(row[-1])\n",
    "            counter += 1\n",
    "            if counter == 14:\n",
    "                rhymes.append((rhymes_row[0], rhymes_row[2]))\n",
    "                rhymes.append((rhymes_row[1], rhymes_row[3]))\n",
    "                rhymes.append((rhymes_row[4], rhymes_row[6]))\n",
    "                rhymes.append((rhymes_row[5], rhymes_row[7]))\n",
    "                rhymes.append((rhymes_row[8], rhymes_row[10]))\n",
    "                rhymes.append((rhymes_row[9], rhymes_row[11]))\n",
    "                rhymes.append((rhymes_row[12], rhymes_row[13]))\n",
    "                counter = 0\n",
    "                rhymes_row = []\n",
    "            poem_obs.append(row[::-1])\n",
    "            poem_obs_withSYLS.append(rowSyl[::-1])"
   ]
  },
  {
   "cell_type": "code",
   "execution_count": 3,
   "metadata": {},
   "outputs": [],
   "source": [
    "poems = []\n",
    "with open(\"data/shakespeare.txt\") as f:\n",
    "    for line in f:\n",
    "        check_int = line.strip()\n",
    "        if len(check_int) > 3:\n",
    "            l = line.lstrip()[:-1].replace(',', '').replace('\"', '').replace(':', '').replace(';', '').replace('.', '').replace('?', '').replace('!', '').replace('(', '').replace(')', '').lower()\n",
    "            l_split = l.split(\" \")\n",
    "            row = []\n",
    "            for word in l_split:\n",
    "                row.append(word)\n",
    "            poems.append(row[::-1])"
   ]
  },
  {
   "cell_type": "code",
   "execution_count": 4,
   "metadata": {},
   "outputs": [],
   "source": [
    "# Populate obs_map\n",
    "poem_obs_map = {}\n",
    "for i in range(len(poems)):\n",
    "    for j in range(len(poems[i])):\n",
    "        if poems[i][j] not in poem_obs_map.keys():\n",
    "            poem_obs_map[int(poem_obs_withSYLS[i][j][0])] = (poems[i][j], poem_obs_withSYLS[i][j][1])"
   ]
  },
  {
   "cell_type": "code",
   "execution_count": 5,
   "metadata": {},
   "outputs": [],
   "source": [
    "# make rhymes dictionary\n",
    "rhymers = {}\n",
    "for tup in rhymes:\n",
    "    if tup[0] not in rhymers.keys():\n",
    "        rhymers[tup[0]] = tup[1]\n",
    "    if tup[1] not in rhymers.keys():\n",
    "        rhymers[tup[1]] = tup[0]\n"
   ]
  },
  {
   "cell_type": "code",
   "execution_count": 6,
   "metadata": {},
   "outputs": [
    {
     "name": "stdout",
     "output_type": "stream",
     "text": [
      "Iteration: 10\n",
      "Iteration: 20\n",
      "Iteration: 30\n",
      "Iteration: 40\n",
      "Iteration: 50\n",
      "Iteration: 60\n",
      "Iteration: 70\n",
      "Iteration: 80\n",
      "Iteration: 90\n",
      "Iteration: 100\n"
     ]
    }
   ],
   "source": [
    "hmm1 = unsupervised_HMM(poem_obs, 16, 100)"
   ]
  },
  {
   "cell_type": "code",
   "execution_count": 12,
   "metadata": {},
   "outputs": [
    {
     "name": "stdout",
     "output_type": "stream",
     "text": [
      "Have that worth devour thus his world to pluck \n",
      "Of that worthy but his thy thou of brought \n",
      "Thy heart could what better never and luck \n",
      "The that scandal level thousand thus or thought \n",
      "In idle freezings of your alchemy \n",
      "To so loving those is of heaven dimmed \n",
      "Thou if story to vowed my ranks and eye \n",
      "To return travel blushing do untrimmed \n",
      "O my woeful beloved of lawful fear \n",
      "Two as thou with save my desired i force \n",
      "Drunk praise to me the war are me some dear \n",
      "Are hung by i from which deserved thy horse \n",
      "As wherefore sorrow with saucy thereby \n",
      "Yellow outward dear i have thou and die \n"
     ]
    }
   ],
   "source": [
    "sonnet = sample_rhyming_sonnet(hmm1, poem_obs_map, rhymers)\n",
    "for line in sonnet:\n",
    "    l = ''\n",
    "    for word in line:\n",
    "        l += word + ' '\n",
    "    print(l.capitalize())"
   ]
  },
  {
   "cell_type": "code",
   "execution_count": 8,
   "metadata": {},
   "outputs": [
    {
     "name": "stdout",
     "output_type": "stream",
     "text": [
      "Iteration: 10\n",
      "Iteration: 20\n",
      "Iteration: 30\n",
      "Iteration: 40\n",
      "Iteration: 50\n",
      "Iteration: 60\n",
      "Iteration: 70\n",
      "Iteration: 80\n",
      "Iteration: 90\n",
      "Iteration: 100\n"
     ]
    }
   ],
   "source": [
    "hmm2 = unsupervised_HMM(poem_obs, 8, 100)"
   ]
  },
  {
   "cell_type": "code",
   "execution_count": 15,
   "metadata": {},
   "outputs": [
    {
     "name": "stdout",
     "output_type": "stream",
     "text": [
      "Dost i am hath mine confounds evident \n",
      "Grace true which by and frown other will here \n",
      "In writ best excuse can unprovident \n",
      "Up returned from scope and comfort uprear \n",
      "The any th' had the maiden in the deeds \n",
      "Hath not my durst to glad so dear with one \n",
      "Me that for i for action of hot sheds \n",
      "More garments' till they wilt many done loan \n",
      "Lovely might shifts love true straight usury \n",
      "Flowers well-seeing sing love if approve \n",
      "My thou could you' hast while i am to thee \n",
      "Me loss if worth thy public that hours love \n",
      "Each and go huge we sum to fair receivest \n",
      "Sins and no i book love and young deceivest \n"
     ]
    }
   ],
   "source": [
    "sonnet = sample_rhyming_sonnet(hmm1, poem_obs_map, rhymers)\n",
    "for line in sonnet:\n",
    "    l = ''\n",
    "    for word in line:\n",
    "        l += word + ' '\n",
    "    print(l.capitalize())"
   ]
  },
  {
   "cell_type": "code",
   "execution_count": 10,
   "metadata": {},
   "outputs": [
    {
     "name": "stdout",
     "output_type": "stream",
     "text": [
      "Iteration: 10\n",
      "Iteration: 20\n",
      "Iteration: 30\n",
      "Iteration: 40\n",
      "Iteration: 50\n",
      "Iteration: 60\n",
      "Iteration: 70\n",
      "Iteration: 80\n",
      "Iteration: 90\n",
      "Iteration: 100\n"
     ]
    }
   ],
   "source": [
    "hmm3 = unsupervised_HMM(poem_obs, 4, 100)"
   ]
  },
  {
   "cell_type": "code",
   "execution_count": 11,
   "metadata": {},
   "outputs": [
    {
     "name": "stdout",
     "output_type": "stream",
     "text": [
      "Save of near speechless and thy love the place \n",
      "Shall as record be in have wond'ring ranged \n",
      "Despised my is thoughts from thy deface \n",
      "Which and till lines to by wand'rest exchanged \n",
      "Impair that with and though make when sweet brand \n",
      "Blame i to form thou days influence fled \n",
      "Whom may which and whom wrinkles lose still hand \n",
      "That least from upon to life's black me dead \n",
      "Than both is having up his true deny \n",
      "Contracted to hiding inconstant burn \n",
      "Than no in mind mine loss all body's lie \n",
      "Gluttoning which this i of overturn \n",
      "Thy back not pattern with poor blessed same \n",
      "And strains what more hang i and to my frame \n"
     ]
    }
   ],
   "source": [
    "sonnet = sample_rhyming_sonnet(hmm3, poem_obs_map, rhymers)\n",
    "for line in sonnet:\n",
    "    l = ''\n",
    "    for word in line:\n",
    "        l += word + ' '\n",
    "    print(l.capitalize())"
   ]
  },
  {
   "cell_type": "code",
   "execution_count": null,
   "metadata": {},
   "outputs": [],
   "source": []
  }
 ],
 "metadata": {
  "kernelspec": {
   "display_name": "Python 3",
   "language": "python",
   "name": "python3"
  },
  "language_info": {
   "codemirror_mode": {
    "name": "ipython",
    "version": 3
   },
   "file_extension": ".py",
   "mimetype": "text/x-python",
   "name": "python",
   "nbconvert_exporter": "python",
   "pygments_lexer": "ipython3",
   "version": "3.7.1"
  }
 },
 "nbformat": 4,
 "nbformat_minor": 2
}
