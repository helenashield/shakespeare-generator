{
 "cells": [
  {
   "cell_type": "code",
   "execution_count": 1,
   "metadata": {},
   "outputs": [],
   "source": [
    "import os\n",
    "import numpy as np\n",
    "from IPython.display import HTML\n",
    "\n",
    "from HMM import unsupervised_HMM\n",
    "from HMM_helper import (\n",
    "    text_to_wordcloud,\n",
    "    states_to_wordclouds,\n",
    "    parse_observations,\n",
    "    sample_sonnet,\n",
    "    visualize_sparsities,\n",
    "    animate_emission\n",
    ")"
   ]
  },
  {
   "cell_type": "code",
   "execution_count": 2,
   "metadata": {},
   "outputs": [],
   "source": [
    "poem_obs = []\n",
    "poem_obs_withSYLS = []\n",
    "\n",
    "with open(\"poems.txt\") as f:\n",
    "    for line in f:\n",
    "        l = (line.strip()).split(\";\")\n",
    "        if len(l) > 3:\n",
    "            row = []\n",
    "            rowSyl = []\n",
    "            for pair in l:\n",
    "                tup = pair.split(\",\")\n",
    "                row.append(int(tup[0]))\n",
    "                rowSyl.append([tup[0], int(tup[1])])\n",
    "            poem_obs.append(row)\n",
    "            poem_obs_withSYLS.append(rowSyl)"
   ]
  },
  {
   "cell_type": "code",
   "execution_count": 3,
   "metadata": {},
   "outputs": [],
   "source": [
    "poems = []\n",
    "with open(\"data/shakespeare.txt\") as f:\n",
    "    for line in f:\n",
    "        check_int = line.strip()\n",
    "        if len(check_int) > 3:\n",
    "            l = line.lstrip()[:-1].replace(',', '').replace('\"', '').replace(':', '').replace(';', '').replace('.', '').replace('?', '').replace('!', '').replace('(', '').replace(')', '').lower()\n",
    "            l_split = l.split(\" \")\n",
    "            row = []\n",
    "            for word in l_split:\n",
    "                row.append(word)\n",
    "            poems.append(row)"
   ]
  },
  {
   "cell_type": "code",
   "execution_count": 4,
   "metadata": {},
   "outputs": [],
   "source": [
    "# Populate obs_map\n",
    "poem_obs_map = {}\n",
    "for i in range(len(poems)):\n",
    "    for j in range(len(poems[i])):\n",
    "        if poems[i][j] not in poem_obs_map.keys():\n",
    "            poem_obs_map[int(poem_obs_withSYLS[i][j][0])] = (poems[i][j], poem_obs_withSYLS[i][j][1])"
   ]
  },
  {
   "cell_type": "code",
   "execution_count": 20,
   "metadata": {},
   "outputs": [
    {
     "name": "stdout",
     "output_type": "stream",
     "text": [
      "Iteration: 10\n",
      "Iteration: 20\n",
      "Iteration: 30\n",
      "Iteration: 40\n",
      "Iteration: 50\n",
      "Iteration: 60\n",
      "Iteration: 70\n",
      "Iteration: 80\n",
      "Iteration: 90\n",
      "Iteration: 100\n"
     ]
    }
   ],
   "source": [
    "# Run hmm\n",
    "hmm1 = unsupervised_HMM(poem_obs, 4, 100)"
   ]
  },
  {
   "cell_type": "code",
   "execution_count": 21,
   "metadata": {},
   "outputs": [
    {
     "name": "stdout",
     "output_type": "stream",
     "text": [
      "Iteration: 10\n",
      "Iteration: 20\n",
      "Iteration: 30\n",
      "Iteration: 40\n",
      "Iteration: 50\n",
      "Iteration: 60\n",
      "Iteration: 70\n",
      "Iteration: 80\n",
      "Iteration: 90\n",
      "Iteration: 100\n"
     ]
    }
   ],
   "source": [
    "hmm2 = unsupervised_HMM(poem_obs, 8, 100)"
   ]
  },
  {
   "cell_type": "code",
   "execution_count": 22,
   "metadata": {},
   "outputs": [
    {
     "name": "stdout",
     "output_type": "stream",
     "text": [
      "Iteration: 10\n",
      "Iteration: 20\n",
      "Iteration: 30\n",
      "Iteration: 40\n",
      "Iteration: 50\n",
      "Iteration: 60\n",
      "Iteration: 70\n",
      "Iteration: 80\n",
      "Iteration: 90\n",
      "Iteration: 100\n"
     ]
    }
   ],
   "source": [
    "hmm3 = unsupervised_HMM(poem_obs, 16, 100)"
   ]
  },
  {
   "cell_type": "code",
   "execution_count": 23,
   "metadata": {},
   "outputs": [
    {
     "name": "stdout",
     "output_type": "stream",
     "text": [
      "fair the pride still three do do art for are \n",
      "which i think am to painted foul the world \n",
      "by beloved of a heart with you' deep die \n",
      "went appear is burthen found lest which grown \n",
      "proud of on had pupil with every which \n",
      "unswayed in satire knit of shore this thine \n",
      "a reason nor the self so from the my to \n",
      "o thee thence thou know leaped thou you' those have \n",
      "past reign live being lose matter within and \n",
      "to love thy level part were beauty part must \n",
      "the while what nativity love you' i \n",
      "to one the whom days truth words fond to head \n",
      "thou man's my once away thou thy mine do \n",
      "powers thy to most thought fair settled forsake \n"
     ]
    }
   ],
   "source": [
    "sonnet = sample_sonnet(hmm1, poem_obs_map)\n",
    "for line in sonnet:\n",
    "    l = ''\n",
    "    for word in line:\n",
    "        l += word + ' '\n",
    "    print(l)"
   ]
  },
  {
   "cell_type": "code",
   "execution_count": 24,
   "metadata": {},
   "outputs": [
    {
     "name": "stdout",
     "output_type": "stream",
     "text": [
      "thy spirit laid my self view of carved doth me \n",
      "his shouldst with compiled in my with so when \n",
      "thou love their are suff'ring your faults gone to \n",
      "thine thou help way to no for sure i my \n",
      "out of thy doth not to thee pen thoughts the \n",
      "by nature my verse grind on world sleeping \n",
      "one showers excuse on perjured or than the \n",
      "i'll clearer meant tongue esteemed with ill beauty \n",
      "believed is note is me waste look my so \n",
      "seems with o'er me some with buds doth i thou \n",
      "this have since the deem with with thy distilled \n",
      "my thee thy well under a fairest to \n",
      "me off what a truth beloved of dost speak \n",
      "happy give as dost in your desire friend \n"
     ]
    }
   ],
   "source": [
    "sonnet = sample_sonnet(hmm2, poem_obs_map)\n",
    "for line in sonnet:\n",
    "    l = ''\n",
    "    for word in line:\n",
    "        l += word + ' '\n",
    "    print(l)"
   ]
  },
  {
   "cell_type": "code",
   "execution_count": 28,
   "metadata": {},
   "outputs": [
    {
     "name": "stdout",
     "output_type": "stream",
     "text": [
      "Well right self of thine praise an the number \n",
      "And doing am he ne'er-cloying urge she do \n",
      "But die eye was come rhymers on and cease \n",
      "And thy thy summon music one endured \n",
      "To situation with thee wits love thou \n",
      "To in him it large part to than swerving am \n",
      "Much be neglected thou as the love in \n",
      "And beauty's she doth yet sharp whom thou and \n",
      "Belongs i translate tell else memory \n",
      "O in my character hath a most why \n",
      "She to thy great chief and but i love of \n",
      "In old lords' are nothing so i lour'st clock \n",
      "Glory that meetness thine thou being your on \n",
      "Disgrace but will as buried to famoused \n"
     ]
    }
   ],
   "source": [
    "sonnet = sample_sonnet(hmm3, poem_obs_map)\n",
    "for line in sonnet:\n",
    "    l = ''\n",
    "    for word in line:\n",
    "        l += word + ' '\n",
    "    print(l.capitalize())"
   ]
  },
  {
   "cell_type": "code",
   "execution_count": 26,
   "metadata": {},
   "outputs": [
    {
     "name": "stdout",
     "output_type": "stream",
     "text": [
      "Iteration: 10\n",
      "Iteration: 20\n",
      "Iteration: 30\n",
      "Iteration: 40\n",
      "Iteration: 50\n",
      "Iteration: 60\n",
      "Iteration: 70\n",
      "Iteration: 80\n",
      "Iteration: 90\n",
      "Iteration: 100\n"
     ]
    }
   ],
   "source": [
    "hmm4 = unsupervised_HMM(poem_obs, 32, 100)"
   ]
  },
  {
   "cell_type": "code",
   "execution_count": 29,
   "metadata": {},
   "outputs": [
    {
     "name": "stdout",
     "output_type": "stream",
     "text": [
      "Something mansion from know invited many \n",
      "Can will so meet of my heart soil i own \n",
      "Is thy as glorious my beauty nor spread \n",
      "Eye return pluck thee said still many in \n",
      "This much telling in me and whether that \n",
      "Part in that not they their salve nor burn that \n",
      "Such a death himself you' slight muse workings \n",
      "What my laughed cost prove shall who's need were my \n",
      "Remove with joy numbers of a divine \n",
      "Worths growth and my birth thou keep'st that heat with \n",
      "Rich you' painted took that i are rose is \n",
      "Only writ night to more knife line shall boy \n",
      "Dead of my laughed to in that loves to new \n",
      "Lose be the vow of form thee of my heart \n"
     ]
    }
   ],
   "source": [
    "sonnet = sample_sonnet(hmm4, poem_obs_map)\n",
    "for line in sonnet:\n",
    "    l = ''\n",
    "    for word in line:\n",
    "        l += word + ' '\n",
    "    print(l.capitalize())"
   ]
  },
  {
   "cell_type": "code",
   "execution_count": null,
   "metadata": {},
   "outputs": [],
   "source": []
  }
 ],
 "metadata": {
  "kernelspec": {
   "display_name": "Python 3",
   "language": "python",
   "name": "python3"
  },
  "language_info": {
   "codemirror_mode": {
    "name": "ipython",
    "version": 3
   },
   "file_extension": ".py",
   "mimetype": "text/x-python",
   "name": "python",
   "nbconvert_exporter": "python",
   "pygments_lexer": "ipython3",
   "version": "3.7.1"
  }
 },
 "nbformat": 4,
 "nbformat_minor": 2
}
