{
 "cells": [
  {
   "cell_type": "code",
   "execution_count": 1,
   "metadata": {},
   "outputs": [],
   "source": [
    "import os\n",
    "import numpy as np\n",
    "from IPython.display import HTML\n",
    "\n",
    "from HMM import unsupervised_HMM\n",
    "from HMM_helper import (\n",
    "    text_to_wordcloud,\n",
    "    states_to_wordclouds,\n",
    "    parse_observations,\n",
    "    sample_sonnet,\n",
    "    sample_rhyming_sonnet,\n",
    "    visualize_sparsities,\n",
    "    animate_emission\n",
    ")"
   ]
  },
  {
   "cell_type": "code",
   "execution_count": 2,
   "metadata": {},
   "outputs": [],
   "source": [
    "poem_obs = []\n",
    "poem_obs_withSYLS = []\n",
    "\n",
    "with open(\"poems.txt\") as f:\n",
    "    counter = 0\n",
    "    rhymes = []\n",
    "    rhymes_row = []\n",
    "    for line in f:\n",
    "        l = (line.strip()).split(\";\")\n",
    "        if len(l) > 3:\n",
    "            row = []\n",
    "            rowSyl = []\n",
    "            for pair in l:\n",
    "                tup = pair.split(\",\")\n",
    "                row.append(int(tup[0]))\n",
    "                rowSyl.append([tup[0], int(tup[1])])\n",
    "            rhymes_row.append(row[-1])\n",
    "            counter += 1\n",
    "            if counter == 14:\n",
    "                rhymes.append((rhymes_row[0], rhymes_row[2]))\n",
    "                rhymes.append((rhymes_row[1], rhymes_row[3]))\n",
    "                rhymes.append((rhymes_row[4], rhymes_row[6]))\n",
    "                rhymes.append((rhymes_row[5], rhymes_row[7]))\n",
    "                rhymes.append((rhymes_row[8], rhymes_row[10]))\n",
    "                rhymes.append((rhymes_row[9], rhymes_row[11]))\n",
    "                rhymes.append((rhymes_row[12], rhymes_row[13]))\n",
    "                counter = 0\n",
    "                rhymes_row = []\n",
    "            poem_obs.append(row[::-1])\n",
    "            poem_obs_withSYLS.append(rowSyl[::-1])"
   ]
  },
  {
   "cell_type": "code",
   "execution_count": 3,
   "metadata": {},
   "outputs": [],
   "source": [
    "poems = []\n",
    "with open(\"data/shakespeare.txt\") as f:\n",
    "    for line in f:\n",
    "        check_int = line.strip()\n",
    "        if len(check_int) > 3:\n",
    "            l = line.lstrip()[:-1].replace(',', '').replace('\"', '').replace(':', '').replace(';', '').replace('.', '').replace('?', '').replace('!', '').replace('(', '').replace(')', '').lower()\n",
    "            l_split = l.split(\" \")\n",
    "            row = []\n",
    "            for word in l_split:\n",
    "                row.append(word)\n",
    "            poems.append(row[::-1])"
   ]
  },
  {
   "cell_type": "code",
   "execution_count": 4,
   "metadata": {},
   "outputs": [],
   "source": [
    "# Populate obs_map\n",
    "poem_obs_map = {}\n",
    "for i in range(len(poems)):\n",
    "    for j in range(len(poems[i])):\n",
    "        if poems[i][j] not in poem_obs_map.keys():\n",
    "            poem_obs_map[int(poem_obs_withSYLS[i][j][0])] = (poems[i][j], poem_obs_withSYLS[i][j][1])"
   ]
  },
  {
   "cell_type": "code",
   "execution_count": 5,
   "metadata": {},
   "outputs": [],
   "source": [
    "# make rhymes dictionary\n",
    "rhymers = {}\n",
    "for tup in rhymes:\n",
    "    if tup[0] not in rhymers.keys():\n",
    "        rhymers[tup[0]] = tup[1]\n",
    "    if tup[1] not in rhymers.keys():\n",
    "        rhymers[tup[1]] = tup[0]\n"
   ]
  },
  {
   "cell_type": "code",
   "execution_count": 6,
   "metadata": {},
   "outputs": [
    {
     "name": "stdout",
     "output_type": "stream",
     "text": [
      "Iteration: 10\n",
      "Iteration: 20\n",
      "Iteration: 30\n",
      "Iteration: 40\n",
      "Iteration: 50\n",
      "Iteration: 60\n",
      "Iteration: 70\n",
      "Iteration: 80\n",
      "Iteration: 90\n",
      "Iteration: 100\n"
     ]
    }
   ],
   "source": [
    "hmm1 = unsupervised_HMM(poem_obs, 4, 10)"
   ]
  },
  {
   "cell_type": "code",
   "execution_count": 7,
   "metadata": {},
   "outputs": [
    {
     "ename": "TypeError",
     "evalue": "list indices must be integers or slices, not tuple",
     "output_type": "error",
     "traceback": [
      "\u001b[0;31m---------------------------------------------------------------------------\u001b[0m",
      "\u001b[0;31mTypeError\u001b[0m                                 Traceback (most recent call last)",
      "\u001b[0;32m<ipython-input-7-844368b37ed3>\u001b[0m in \u001b[0;36m<module>\u001b[0;34m\u001b[0m\n\u001b[0;32m----> 1\u001b[0;31m \u001b[0msonnet\u001b[0m \u001b[0;34m=\u001b[0m \u001b[0msample_rhyming_sonnet\u001b[0m\u001b[0;34m(\u001b[0m\u001b[0mhmm1\u001b[0m\u001b[0;34m,\u001b[0m \u001b[0mpoem_obs_map\u001b[0m\u001b[0;34m,\u001b[0m \u001b[0mrhymers\u001b[0m\u001b[0;34m)\u001b[0m\u001b[0;34m\u001b[0m\u001b[0;34m\u001b[0m\u001b[0m\n\u001b[0m\u001b[1;32m      2\u001b[0m \u001b[0;32mfor\u001b[0m \u001b[0mline\u001b[0m \u001b[0;32min\u001b[0m \u001b[0msonnet\u001b[0m\u001b[0;34m:\u001b[0m\u001b[0;34m\u001b[0m\u001b[0;34m\u001b[0m\u001b[0m\n\u001b[1;32m      3\u001b[0m     \u001b[0ml\u001b[0m \u001b[0;34m=\u001b[0m \u001b[0;34m''\u001b[0m\u001b[0;34m\u001b[0m\u001b[0;34m\u001b[0m\u001b[0m\n\u001b[1;32m      4\u001b[0m     \u001b[0;32mfor\u001b[0m \u001b[0mword\u001b[0m \u001b[0;32min\u001b[0m \u001b[0mline\u001b[0m\u001b[0;34m:\u001b[0m\u001b[0;34m\u001b[0m\u001b[0;34m\u001b[0m\u001b[0m\n\u001b[1;32m      5\u001b[0m         \u001b[0ml\u001b[0m \u001b[0;34m+=\u001b[0m \u001b[0mword\u001b[0m \u001b[0;34m+\u001b[0m \u001b[0;34m' '\u001b[0m\u001b[0;34m\u001b[0m\u001b[0;34m\u001b[0m\u001b[0m\n",
      "\u001b[0;32m~/Documents/Winter 2018-2019/CS 155/Project3/project3/HMM_helper.py\u001b[0m in \u001b[0;36msample_rhyming_sonnet\u001b[0;34m(hmm, obs_map, rhyme_dict, n_syl, n_lines)\u001b[0m\n\u001b[1;32m    138\u001b[0m     \u001b[0mcounter\u001b[0m \u001b[0;34m=\u001b[0m \u001b[0;36m0\u001b[0m\u001b[0;34m\u001b[0m\u001b[0;34m\u001b[0m\u001b[0m\n\u001b[1;32m    139\u001b[0m     \u001b[0;32mfor\u001b[0m \u001b[0mword\u001b[0m \u001b[0;32min\u001b[0m \u001b[0mpairs\u001b[0m\u001b[0;34m:\u001b[0m\u001b[0;34m\u001b[0m\u001b[0;34m\u001b[0m\u001b[0m\n\u001b[0;32m--> 140\u001b[0;31m         \u001b[0memission1\u001b[0m\u001b[0;34m,\u001b[0m \u001b[0memission2\u001b[0m \u001b[0;34m=\u001b[0m \u001b[0mhmm\u001b[0m\u001b[0;34m.\u001b[0m\u001b[0mgenerate_emission_rhyme\u001b[0m\u001b[0;34m(\u001b[0m\u001b[0mobs_map\u001b[0m\u001b[0;34m,\u001b[0m \u001b[0mword\u001b[0m\u001b[0;34m,\u001b[0m \u001b[0mrhyme_dict\u001b[0m\u001b[0;34m)\u001b[0m\u001b[0;34m\u001b[0m\u001b[0;34m\u001b[0m\u001b[0m\n\u001b[0m\u001b[1;32m    141\u001b[0m         \u001b[0msonnet_lines\u001b[0m\u001b[0;34m.\u001b[0m\u001b[0mappend\u001b[0m\u001b[0;34m(\u001b[0m\u001b[0memission1\u001b[0m\u001b[0;34m)\u001b[0m\u001b[0;34m\u001b[0m\u001b[0;34m\u001b[0m\u001b[0m\n\u001b[1;32m    142\u001b[0m         \u001b[0msonnet_lines\u001b[0m\u001b[0;34m.\u001b[0m\u001b[0mappend\u001b[0m\u001b[0;34m(\u001b[0m\u001b[0memission2\u001b[0m\u001b[0;34m)\u001b[0m\u001b[0;34m\u001b[0m\u001b[0;34m\u001b[0m\u001b[0m\n",
      "\u001b[0;32m~/Documents/Winter 2018-2019/CS 155/Project3/project3/HMM.py\u001b[0m in \u001b[0;36mgenerate_emission_rhyme\u001b[0;34m(self, obs_map, first_word, rhyme_dict, n_syls)\u001b[0m\n\u001b[1;32m    439\u001b[0m \u001b[0;34m\u001b[0m\u001b[0m\n\u001b[1;32m    440\u001b[0m         \u001b[0memission1\u001b[0m \u001b[0;34m=\u001b[0m \u001b[0;34m[\u001b[0m\u001b[0mobs_map\u001b[0m\u001b[0;34m[\u001b[0m\u001b[0mfirst_word\u001b[0m\u001b[0;34m]\u001b[0m\u001b[0;34m[\u001b[0m\u001b[0;36m0\u001b[0m\u001b[0;34m]\u001b[0m\u001b[0;34m]\u001b[0m\u001b[0;34m\u001b[0m\u001b[0;34m\u001b[0m\u001b[0m\n\u001b[0;32m--> 441\u001b[0;31m         \u001b[0mstate_probs\u001b[0m \u001b[0;34m=\u001b[0m \u001b[0mself\u001b[0m\u001b[0;34m.\u001b[0m\u001b[0mO\u001b[0m\u001b[0;34m[\u001b[0m\u001b[0;34m:\u001b[0m\u001b[0;34m,\u001b[0m \u001b[0mfirst_word\u001b[0m\u001b[0;34m]\u001b[0m\u001b[0;34m\u001b[0m\u001b[0;34m\u001b[0m\u001b[0m\n\u001b[0m\u001b[1;32m    442\u001b[0m         \u001b[0mprobs_sum\u001b[0m \u001b[0;34m=\u001b[0m \u001b[0msum\u001b[0m\u001b[0;34m(\u001b[0m\u001b[0mstate_probs\u001b[0m\u001b[0;34m)\u001b[0m\u001b[0;34m\u001b[0m\u001b[0;34m\u001b[0m\u001b[0m\n\u001b[1;32m    443\u001b[0m         \u001b[0mnorm_probs\u001b[0m \u001b[0;34m=\u001b[0m \u001b[0mnp\u001b[0m\u001b[0;34m.\u001b[0m\u001b[0marray\u001b[0m\u001b[0;34m(\u001b[0m\u001b[0mstate_probs\u001b[0m\u001b[0;34m)\u001b[0m \u001b[0;34m/\u001b[0m \u001b[0mprobs_sum\u001b[0m\u001b[0;34m\u001b[0m\u001b[0;34m\u001b[0m\u001b[0m\n",
      "\u001b[0;31mTypeError\u001b[0m: list indices must be integers or slices, not tuple"
     ]
    }
   ],
   "source": [
    "sonnet = sample_rhyming_sonnet(hmm1, poem_obs_map, rhymers)\n",
    "for line in sonnet:\n",
    "    l = ''\n",
    "    for word in line:\n",
    "        l += word + ' '\n",
    "    print(l)"
   ]
  },
  {
   "cell_type": "code",
   "execution_count": null,
   "metadata": {},
   "outputs": [],
   "source": []
  }
 ],
 "metadata": {
  "kernelspec": {
   "display_name": "Python 3",
   "language": "python",
   "name": "python3"
  },
  "language_info": {
   "codemirror_mode": {
    "name": "ipython",
    "version": 3
   },
   "file_extension": ".py",
   "mimetype": "text/x-python",
   "name": "python",
   "nbconvert_exporter": "python",
   "pygments_lexer": "ipython3",
   "version": "3.7.1"
  }
 },
 "nbformat": 4,
 "nbformat_minor": 2
}
